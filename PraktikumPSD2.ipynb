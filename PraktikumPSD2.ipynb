{
  "nbformat": 4,
  "nbformat_minor": 0,
  "metadata": {
    "colab": {
      "name": "PraktikumPSD2.ipynb",
      "provenance": []
    },
    "kernelspec": {
      "name": "python3",
      "display_name": "Python 3"
    },
    "language_info": {
      "name": "python"
    }
  },
  "cells": [
    {
      "cell_type": "code",
      "execution_count": 80,
      "metadata": {
        "id": "rKvDWdvS4dwU"
      },
      "outputs": [],
      "source": [
        "import pandas as pd\n",
        "import numpy as np"
      ]
    },
    {
      "cell_type": "code",
      "source": [
        "# Membuat tabel\n",
        "n_rows = 5\n",
        "n_cols = 5\n",
        "data = {\n",
        "        'Berat Badan':[46, 48.5, 49, 50, 51.5],\n",
        "        'Usia':[24, 27, 22, 24, 29],\n",
        "        'Nama':['Eldridge','Yorktown','Enterprise','Belfast','Hood']\n",
        "        }\n",
        "df = pd.DataFrame(data)\n",
        "\n",
        "df"
      ],
      "metadata": {
        "id": "DeDXgKrs4qKB"
      },
      "execution_count": null,
      "outputs": []
    },
    {
      "cell_type": "code",
      "source": [
        "df.index = pd.util.testing.makeDateIndex(n_rows, name=u'Date', freq='M') #makedateIndex = data tanggal random\n",
        "df_x = df.reset_index()\n",
        "\n",
        "df_x"
      ],
      "metadata": {
        "id": "gv6yWEZ6I9kB"
      },
      "execution_count": null,
      "outputs": []
    },
    {
      "cell_type": "code",
      "source": [
        "# Menampilkan tipe data\n",
        "df_x.dtypes"
      ],
      "metadata": {
        "id": "gqSYkxyu89-e"
      },
      "execution_count": null,
      "outputs": []
    },
    {
      "cell_type": "code",
      "source": [
        "df_x[~(df_x['Berat Badan'] > 50)]\n",
        "df_x.loc[:, ::-1]"
      ],
      "metadata": {
        "id": "NQ3VznlnNSNk"
      },
      "execution_count": null,
      "outputs": []
    }
  ]
}